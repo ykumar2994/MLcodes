{
 "cells": [
  {
   "cell_type": "markdown",
   "id": "c514f20e",
   "metadata": {},
   "source": [
    "# Project - Data Insight - Covid data using Python Pandas"
   ]
  },
  {
   "cell_type": "code",
   "execution_count": 149,
   "id": "96588f0a",
   "metadata": {},
   "outputs": [],
   "source": [
    "import pandas as pd\n",
    "import numpy as np\n",
    "import matplotlib.pyplot as plt\n",
    "import seaborn as sns"
   ]
  },
  {
   "cell_type": "code",
   "execution_count": 150,
   "id": "c9ab41b2",
   "metadata": {},
   "outputs": [
    {
     "data": {
      "text/html": [
       "<div>\n",
       "<style scoped>\n",
       "    .dataframe tbody tr th:only-of-type {\n",
       "        vertical-align: middle;\n",
       "    }\n",
       "\n",
       "    .dataframe tbody tr th {\n",
       "        vertical-align: top;\n",
       "    }\n",
       "\n",
       "    .dataframe thead th {\n",
       "        text-align: right;\n",
       "    }\n",
       "</style>\n",
       "<table border=\"1\" class=\"dataframe\">\n",
       "  <thead>\n",
       "    <tr style=\"text-align: right;\">\n",
       "      <th></th>\n",
       "      <th>date</th>\n",
       "      <th>outbreak_group</th>\n",
       "      <th>outbreak_subgroup</th>\n",
       "      <th>number_ongoing_outbreaks</th>\n",
       "    </tr>\n",
       "  </thead>\n",
       "  <tbody>\n",
       "    <tr>\n",
       "      <th>0</th>\n",
       "      <td>2020-11-01</td>\n",
       "      <td>1 Congregate Care</td>\n",
       "      <td>1 Long-Term Care Homes</td>\n",
       "      <td>73</td>\n",
       "    </tr>\n",
       "    <tr>\n",
       "      <th>1</th>\n",
       "      <td>2020-11-01</td>\n",
       "      <td>1 Congregate Care</td>\n",
       "      <td>2 Hospitals</td>\n",
       "      <td>21</td>\n",
       "    </tr>\n",
       "    <tr>\n",
       "      <th>2</th>\n",
       "      <td>2020-11-01</td>\n",
       "      <td>1 Congregate Care</td>\n",
       "      <td>3 Retirement Homes</td>\n",
       "      <td>51</td>\n",
       "    </tr>\n",
       "    <tr>\n",
       "      <th>3</th>\n",
       "      <td>2020-11-01</td>\n",
       "      <td>2 Congregate Living</td>\n",
       "      <td>18 Short-term accommodations</td>\n",
       "      <td>2</td>\n",
       "    </tr>\n",
       "    <tr>\n",
       "      <th>4</th>\n",
       "      <td>2020-11-01</td>\n",
       "      <td>2 Congregate Living</td>\n",
       "      <td>4 Group Home/Supportive Housing</td>\n",
       "      <td>31</td>\n",
       "    </tr>\n",
       "    <tr>\n",
       "      <th>5</th>\n",
       "      <td>2020-11-01</td>\n",
       "      <td>2 Congregate Living</td>\n",
       "      <td>5 Correctional Facility</td>\n",
       "      <td>4</td>\n",
       "    </tr>\n",
       "    <tr>\n",
       "      <th>6</th>\n",
       "      <td>2020-11-01</td>\n",
       "      <td>2 Congregate Living</td>\n",
       "      <td>6 Shelter</td>\n",
       "      <td>9</td>\n",
       "    </tr>\n",
       "    <tr>\n",
       "      <th>7</th>\n",
       "      <td>2020-11-01</td>\n",
       "      <td>3 Education</td>\n",
       "      <td>10 School - Post-Secondary</td>\n",
       "      <td>2</td>\n",
       "    </tr>\n",
       "    <tr>\n",
       "      <th>8</th>\n",
       "      <td>2020-11-01</td>\n",
       "      <td>3 Education</td>\n",
       "      <td>11 Child care</td>\n",
       "      <td>39</td>\n",
       "    </tr>\n",
       "    <tr>\n",
       "      <th>9</th>\n",
       "      <td>2020-11-01</td>\n",
       "      <td>3 Education</td>\n",
       "      <td>7 School - Elementary</td>\n",
       "      <td>29</td>\n",
       "    </tr>\n",
       "  </tbody>\n",
       "</table>\n",
       "</div>"
      ],
      "text/plain": [
       "         date       outbreak_group                outbreak_subgroup  \\\n",
       "0  2020-11-01    1 Congregate Care           1 Long-Term Care Homes   \n",
       "1  2020-11-01    1 Congregate Care                      2 Hospitals   \n",
       "2  2020-11-01    1 Congregate Care               3 Retirement Homes   \n",
       "3  2020-11-01  2 Congregate Living     18 Short-term accommodations   \n",
       "4  2020-11-01  2 Congregate Living  4 Group Home/Supportive Housing   \n",
       "5  2020-11-01  2 Congregate Living          5 Correctional Facility   \n",
       "6  2020-11-01  2 Congregate Living                        6 Shelter   \n",
       "7  2020-11-01          3 Education       10 School - Post-Secondary   \n",
       "8  2020-11-01          3 Education                    11 Child care   \n",
       "9  2020-11-01          3 Education            7 School - Elementary   \n",
       "\n",
       "   number_ongoing_outbreaks  \n",
       "0                        73  \n",
       "1                        21  \n",
       "2                        51  \n",
       "3                         2  \n",
       "4                        31  \n",
       "5                         4  \n",
       "6                         9  \n",
       "7                         2  \n",
       "8                        39  \n",
       "9                        29  "
      ]
     },
     "execution_count": 150,
     "metadata": {},
     "output_type": "execute_result"
    }
   ],
   "source": [
    "filepath=\"C://users//yogi//downloads//ongoing_outbreaks.csv\"\n",
    "covid_dataset = pd.read_csv(filepath)\n",
    "covid_dataset.head(10)"
   ]
  },
  {
   "cell_type": "markdown",
   "id": "078bba3a",
   "metadata": {},
   "source": [
    "#### total rows in dataset =10833\n",
    "#### max cases in a day =426\n",
    "#### min cases in a day = 1\n",
    "#### avg cases per day= 25"
   ]
  },
  {
   "cell_type": "code",
   "execution_count": 151,
   "id": "89ca9516",
   "metadata": {},
   "outputs": [
    {
     "data": {
      "text/html": [
       "<div>\n",
       "<style scoped>\n",
       "    .dataframe tbody tr th:only-of-type {\n",
       "        vertical-align: middle;\n",
       "    }\n",
       "\n",
       "    .dataframe tbody tr th {\n",
       "        vertical-align: top;\n",
       "    }\n",
       "\n",
       "    .dataframe thead th {\n",
       "        text-align: right;\n",
       "    }\n",
       "</style>\n",
       "<table border=\"1\" class=\"dataframe\">\n",
       "  <thead>\n",
       "    <tr style=\"text-align: right;\">\n",
       "      <th></th>\n",
       "      <th>date</th>\n",
       "      <th>outbreak_group</th>\n",
       "      <th>outbreak_subgroup</th>\n",
       "      <th>number_ongoing_outbreaks</th>\n",
       "    </tr>\n",
       "  </thead>\n",
       "  <tbody>\n",
       "    <tr>\n",
       "      <th>count</th>\n",
       "      <td>10833</td>\n",
       "      <td>10833</td>\n",
       "      <td>10833</td>\n",
       "      <td>10833.000000</td>\n",
       "    </tr>\n",
       "    <tr>\n",
       "      <th>unique</th>\n",
       "      <td>512</td>\n",
       "      <td>7</td>\n",
       "      <td>28</td>\n",
       "      <td>NaN</td>\n",
       "    </tr>\n",
       "    <tr>\n",
       "      <th>top</th>\n",
       "      <td>2021-03-26</td>\n",
       "      <td>2 Congregate Living</td>\n",
       "      <td>1 Long-Term Care Homes</td>\n",
       "      <td>NaN</td>\n",
       "    </tr>\n",
       "    <tr>\n",
       "      <th>freq</th>\n",
       "      <td>24</td>\n",
       "      <td>2310</td>\n",
       "      <td>512</td>\n",
       "      <td>NaN</td>\n",
       "    </tr>\n",
       "    <tr>\n",
       "      <th>mean</th>\n",
       "      <td>NaN</td>\n",
       "      <td>NaN</td>\n",
       "      <td>NaN</td>\n",
       "      <td>25.381427</td>\n",
       "    </tr>\n",
       "    <tr>\n",
       "      <th>std</th>\n",
       "      <td>NaN</td>\n",
       "      <td>NaN</td>\n",
       "      <td>NaN</td>\n",
       "      <td>47.923233</td>\n",
       "    </tr>\n",
       "    <tr>\n",
       "      <th>min</th>\n",
       "      <td>NaN</td>\n",
       "      <td>NaN</td>\n",
       "      <td>NaN</td>\n",
       "      <td>1.000000</td>\n",
       "    </tr>\n",
       "    <tr>\n",
       "      <th>25%</th>\n",
       "      <td>NaN</td>\n",
       "      <td>NaN</td>\n",
       "      <td>NaN</td>\n",
       "      <td>3.000000</td>\n",
       "    </tr>\n",
       "    <tr>\n",
       "      <th>50%</th>\n",
       "      <td>NaN</td>\n",
       "      <td>NaN</td>\n",
       "      <td>NaN</td>\n",
       "      <td>8.000000</td>\n",
       "    </tr>\n",
       "    <tr>\n",
       "      <th>75%</th>\n",
       "      <td>NaN</td>\n",
       "      <td>NaN</td>\n",
       "      <td>NaN</td>\n",
       "      <td>24.000000</td>\n",
       "    </tr>\n",
       "    <tr>\n",
       "      <th>max</th>\n",
       "      <td>NaN</td>\n",
       "      <td>NaN</td>\n",
       "      <td>NaN</td>\n",
       "      <td>426.000000</td>\n",
       "    </tr>\n",
       "  </tbody>\n",
       "</table>\n",
       "</div>"
      ],
      "text/plain": [
       "              date       outbreak_group       outbreak_subgroup  \\\n",
       "count        10833                10833                   10833   \n",
       "unique         512                    7                      28   \n",
       "top     2021-03-26  2 Congregate Living  1 Long-Term Care Homes   \n",
       "freq            24                 2310                     512   \n",
       "mean           NaN                  NaN                     NaN   \n",
       "std            NaN                  NaN                     NaN   \n",
       "min            NaN                  NaN                     NaN   \n",
       "25%            NaN                  NaN                     NaN   \n",
       "50%            NaN                  NaN                     NaN   \n",
       "75%            NaN                  NaN                     NaN   \n",
       "max            NaN                  NaN                     NaN   \n",
       "\n",
       "        number_ongoing_outbreaks  \n",
       "count               10833.000000  \n",
       "unique                       NaN  \n",
       "top                          NaN  \n",
       "freq                         NaN  \n",
       "mean                   25.381427  \n",
       "std                    47.923233  \n",
       "min                     1.000000  \n",
       "25%                     3.000000  \n",
       "50%                     8.000000  \n",
       "75%                    24.000000  \n",
       "max                   426.000000  "
      ]
     },
     "execution_count": 151,
     "metadata": {},
     "output_type": "execute_result"
    }
   ],
   "source": [
    "covid_dataset.describe(include='all')\n"
   ]
  },
  {
   "cell_type": "markdown",
   "id": "adbfdca6",
   "metadata": {},
   "source": [
    "#### no null values in dataset"
   ]
  },
  {
   "cell_type": "code",
   "execution_count": 152,
   "id": "67341062",
   "metadata": {},
   "outputs": [
    {
     "data": {
      "text/plain": [
       "date                        0\n",
       "outbreak_group              0\n",
       "outbreak_subgroup           0\n",
       "number_ongoing_outbreaks    0\n",
       "dtype: int64"
      ]
     },
     "execution_count": 152,
     "metadata": {},
     "output_type": "execute_result"
    }
   ],
   "source": [
    "covid_dataset.isnull().sum()\n"
   ]
  },
  {
   "cell_type": "markdown",
   "id": "a0386ec8",
   "metadata": {},
   "source": [
    "### highest number of cases have seen in month of janurary 2022 in 1 Congregate Care (group living) having outbreak_subgroup as '1 Long-Term Care Homes'"
   ]
  },
  {
   "cell_type": "code",
   "execution_count": 153,
   "id": "19a3e1d3",
   "metadata": {},
   "outputs": [
    {
     "data": {
      "text/html": [
       "<div>\n",
       "<style scoped>\n",
       "    .dataframe tbody tr th:only-of-type {\n",
       "        vertical-align: middle;\n",
       "    }\n",
       "\n",
       "    .dataframe tbody tr th {\n",
       "        vertical-align: top;\n",
       "    }\n",
       "\n",
       "    .dataframe thead th {\n",
       "        text-align: right;\n",
       "    }\n",
       "</style>\n",
       "<table border=\"1\" class=\"dataframe\">\n",
       "  <thead>\n",
       "    <tr style=\"text-align: right;\">\n",
       "      <th></th>\n",
       "      <th>date</th>\n",
       "      <th>outbreak_group</th>\n",
       "      <th>outbreak_subgroup</th>\n",
       "      <th>number_ongoing_outbreaks</th>\n",
       "    </tr>\n",
       "  </thead>\n",
       "  <tbody>\n",
       "    <tr>\n",
       "      <th>9840</th>\n",
       "      <td>2022-01-17</td>\n",
       "      <td>1 Congregate Care</td>\n",
       "      <td>1 Long-Term Care Homes</td>\n",
       "      <td>426</td>\n",
       "    </tr>\n",
       "    <tr>\n",
       "      <th>9818</th>\n",
       "      <td>2022-01-16</td>\n",
       "      <td>1 Congregate Care</td>\n",
       "      <td>1 Long-Term Care Homes</td>\n",
       "      <td>424</td>\n",
       "    </tr>\n",
       "    <tr>\n",
       "      <th>9884</th>\n",
       "      <td>2022-01-19</td>\n",
       "      <td>1 Congregate Care</td>\n",
       "      <td>1 Long-Term Care Homes</td>\n",
       "      <td>422</td>\n",
       "    </tr>\n",
       "    <tr>\n",
       "      <th>9862</th>\n",
       "      <td>2022-01-18</td>\n",
       "      <td>1 Congregate Care</td>\n",
       "      <td>1 Long-Term Care Homes</td>\n",
       "      <td>421</td>\n",
       "    </tr>\n",
       "    <tr>\n",
       "      <th>9927</th>\n",
       "      <td>2022-01-21</td>\n",
       "      <td>1 Congregate Care</td>\n",
       "      <td>1 Long-Term Care Homes</td>\n",
       "      <td>420</td>\n",
       "    </tr>\n",
       "    <tr>\n",
       "      <th>9906</th>\n",
       "      <td>2022-01-20</td>\n",
       "      <td>1 Congregate Care</td>\n",
       "      <td>1 Long-Term Care Homes</td>\n",
       "      <td>420</td>\n",
       "    </tr>\n",
       "    <tr>\n",
       "      <th>9796</th>\n",
       "      <td>2022-01-15</td>\n",
       "      <td>1 Congregate Care</td>\n",
       "      <td>1 Long-Term Care Homes</td>\n",
       "      <td>417</td>\n",
       "    </tr>\n",
       "    <tr>\n",
       "      <th>9948</th>\n",
       "      <td>2022-01-22</td>\n",
       "      <td>1 Congregate Care</td>\n",
       "      <td>1 Long-Term Care Homes</td>\n",
       "      <td>414</td>\n",
       "    </tr>\n",
       "    <tr>\n",
       "      <th>9774</th>\n",
       "      <td>2022-01-14</td>\n",
       "      <td>1 Congregate Care</td>\n",
       "      <td>1 Long-Term Care Homes</td>\n",
       "      <td>411</td>\n",
       "    </tr>\n",
       "    <tr>\n",
       "      <th>9968</th>\n",
       "      <td>2022-01-23</td>\n",
       "      <td>1 Congregate Care</td>\n",
       "      <td>1 Long-Term Care Homes</td>\n",
       "      <td>407</td>\n",
       "    </tr>\n",
       "  </tbody>\n",
       "</table>\n",
       "</div>"
      ],
      "text/plain": [
       "            date     outbreak_group       outbreak_subgroup  \\\n",
       "9840  2022-01-17  1 Congregate Care  1 Long-Term Care Homes   \n",
       "9818  2022-01-16  1 Congregate Care  1 Long-Term Care Homes   \n",
       "9884  2022-01-19  1 Congregate Care  1 Long-Term Care Homes   \n",
       "9862  2022-01-18  1 Congregate Care  1 Long-Term Care Homes   \n",
       "9927  2022-01-21  1 Congregate Care  1 Long-Term Care Homes   \n",
       "9906  2022-01-20  1 Congregate Care  1 Long-Term Care Homes   \n",
       "9796  2022-01-15  1 Congregate Care  1 Long-Term Care Homes   \n",
       "9948  2022-01-22  1 Congregate Care  1 Long-Term Care Homes   \n",
       "9774  2022-01-14  1 Congregate Care  1 Long-Term Care Homes   \n",
       "9968  2022-01-23  1 Congregate Care  1 Long-Term Care Homes   \n",
       "\n",
       "      number_ongoing_outbreaks  \n",
       "9840                       426  \n",
       "9818                       424  \n",
       "9884                       422  \n",
       "9862                       421  \n",
       "9927                       420  \n",
       "9906                       420  \n",
       "9796                       417  \n",
       "9948                       414  \n",
       "9774                       411  \n",
       "9968                       407  "
      ]
     },
     "execution_count": 153,
     "metadata": {},
     "output_type": "execute_result"
    }
   ],
   "source": [
    "covid_dataset.sort_values(by='number_ongoing_outbreaks',ascending=False).head(10)\n"
   ]
  },
  {
   "cell_type": "markdown",
   "id": "c6170d44",
   "metadata": {},
   "source": [
    "### below is top 10 days (date values) with highest total number of cases in a day"
   ]
  },
  {
   "cell_type": "code",
   "execution_count": 154,
   "id": "7234677b",
   "metadata": {},
   "outputs": [
    {
     "data": {
      "text/html": [
       "<div>\n",
       "<style scoped>\n",
       "    .dataframe tbody tr th:only-of-type {\n",
       "        vertical-align: middle;\n",
       "    }\n",
       "\n",
       "    .dataframe tbody tr th {\n",
       "        vertical-align: top;\n",
       "    }\n",
       "\n",
       "    .dataframe thead th {\n",
       "        text-align: right;\n",
       "    }\n",
       "</style>\n",
       "<table border=\"1\" class=\"dataframe\">\n",
       "  <thead>\n",
       "    <tr style=\"text-align: right;\">\n",
       "      <th></th>\n",
       "      <th>number_ongoing_outbreaks</th>\n",
       "    </tr>\n",
       "    <tr>\n",
       "      <th>date</th>\n",
       "      <th></th>\n",
       "    </tr>\n",
       "  </thead>\n",
       "  <tbody>\n",
       "    <tr>\n",
       "      <th>2022-01-17</th>\n",
       "      <td>1699</td>\n",
       "    </tr>\n",
       "    <tr>\n",
       "      <th>2022-01-16</th>\n",
       "      <td>1692</td>\n",
       "    </tr>\n",
       "    <tr>\n",
       "      <th>2022-01-18</th>\n",
       "      <td>1686</td>\n",
       "    </tr>\n",
       "    <tr>\n",
       "      <th>2022-01-19</th>\n",
       "      <td>1660</td>\n",
       "    </tr>\n",
       "    <tr>\n",
       "      <th>2022-01-20</th>\n",
       "      <td>1642</td>\n",
       "    </tr>\n",
       "    <tr>\n",
       "      <th>2022-01-15</th>\n",
       "      <td>1633</td>\n",
       "    </tr>\n",
       "    <tr>\n",
       "      <th>2022-01-21</th>\n",
       "      <td>1624</td>\n",
       "    </tr>\n",
       "    <tr>\n",
       "      <th>2022-01-14</th>\n",
       "      <td>1596</td>\n",
       "    </tr>\n",
       "    <tr>\n",
       "      <th>2022-01-22</th>\n",
       "      <td>1594</td>\n",
       "    </tr>\n",
       "    <tr>\n",
       "      <th>2022-01-23</th>\n",
       "      <td>1579</td>\n",
       "    </tr>\n",
       "  </tbody>\n",
       "</table>\n",
       "</div>"
      ],
      "text/plain": [
       "            number_ongoing_outbreaks\n",
       "date                                \n",
       "2022-01-17                      1699\n",
       "2022-01-16                      1692\n",
       "2022-01-18                      1686\n",
       "2022-01-19                      1660\n",
       "2022-01-20                      1642\n",
       "2022-01-15                      1633\n",
       "2022-01-21                      1624\n",
       "2022-01-14                      1596\n",
       "2022-01-22                      1594\n",
       "2022-01-23                      1579"
      ]
     },
     "execution_count": 154,
     "metadata": {},
     "output_type": "execute_result"
    }
   ],
   "source": [
    "covid_dataset.groupby('date').sum().sort_values(by='number_ongoing_outbreaks',ascending=False).head(10)\n"
   ]
  },
  {
   "cell_type": "markdown",
   "id": "29652a20",
   "metadata": {},
   "source": [
    "### Trend of covid cases from 15th jan 2020 to till now (27th march 2022)"
   ]
  },
  {
   "cell_type": "code",
   "execution_count": 155,
   "id": "83838d9a",
   "metadata": {},
   "outputs": [
    {
     "data": {
      "text/plain": [
       "<AxesSubplot:xlabel='date', ylabel='covid cases'>"
      ]
     },
     "execution_count": 155,
     "metadata": {},
     "output_type": "execute_result"
    },
    {
     "data": {
      "image/png": "[encoded data removed]",
      "text/plain": [
       "<Figure size 576x576 with 1 Axes>"
      ]
     },
     "metadata": {
      "needs_background": "light"
     },
     "output_type": "display_data"
    }
   ],
   "source": [
    "covid_dataset.plot(x='date',y='number_ongoing_outbreaks',figsize=(8, 8),ylabel='covid cases',xlabel='date')"
   ]
  },
  {
   "cell_type": "code",
   "execution_count": 159,
   "id": "c1a01eb7",
   "metadata": {},
   "outputs": [
    {
     "name": "stdout",
     "output_type": "stream",
     "text": [
      "                            number_ongoing_outbreaks\n",
      "outbreak_group                                      \n",
      "1 Congregate Care                              92657\n",
      "2 Congregate Living                            43845\n",
      "3 Education                                    57698\n",
      "4 Workplace                                    58360\n",
      "5 Recreational                                 14742\n",
      "6 Other/Unknown                                 7593\n",
      "7 Out of Province Outbreak                        62\n"
     ]
    }
   ],
   "source": [
    "group_data= covid_dataset.groupby('outbreak_group').sum()\n",
    "print(group_data)"
   ]
  },
  {
   "cell_type": "markdown",
   "id": "8deb5fbe",
   "metadata": {},
   "source": [
    "### Pie chart ('percentage cases distribution in out break groups')"
   ]
  },
  {
   "cell_type": "code",
   "execution_count": 157,
   "id": "0178c9ee",
   "metadata": {},
   "outputs": [
    {
     "data": {
      "text/plain": [
       "<AxesSubplot:title={'center':'percentage cases distribution in out break groups'}, ylabel='number_ongoing_outbreaks'>"
      ]
     },
     "execution_count": 157,
     "metadata": {},
     "output_type": "execute_result"
    },
    {
     "data": {
      "image/png": "[encoded data removed]",
      "text/plain": [
       "<Figure size 432x288 with 1 Axes>"
      ]
     },
     "metadata": {},
     "output_type": "display_data"
    }
   ],
   "source": [
    "\n",
    "group_data.plot.pie(y='number_ongoing_outbreaks',title='percentage cases distribution in out break groups',autopct='%1.0f%%',legend=False)"
   ]
  },
  {
   "cell_type": "markdown",
   "id": "0d9272e6",
   "metadata": {},
   "source": [
    "### total no of cases per year"
   ]
  },
  {
   "cell_type": "code",
   "execution_count": 160,
   "id": "0e7b87d4",
   "metadata": {},
   "outputs": [
    {
     "name": "stdout",
     "output_type": "stream",
     "text": [
      "      number_ongoing_outbreaks\n",
      "year                          \n",
      "2020                     45148\n",
      "2021                    164802\n",
      "2022                     65007\n"
     ]
    },
    {
     "data": {
      "text/plain": [
       "<AxesSubplot:title={'center':'total no of cases per year'}, xlabel='year'>"
      ]
     },
     "execution_count": 160,
     "metadata": {},
     "output_type": "execute_result"
    },
    {
     "data": {
      "image/png": "[encoded data removed]",
      "text/plain": [
       "<Figure size 432x288 with 1 Axes>"
      ]
     },
     "metadata": {
      "needs_background": "light"
     },
     "output_type": "display_data"
    }
   ],
   "source": [
    "#changing datatype of date column to datetime\n",
    "covid_dataset['date']=pd.to_datetime(covid_dataset.date)\n",
    "\n",
    "\n",
    "year_dataset=covid_dataset.groupby(covid_dataset['date'].dt.year).sum()\n",
    "\n",
    "year_dataset.index.rename('year',inplace=True)\n",
    "\n",
    "print(year_dataset)\n",
    "\n",
    "year_dataset.plot(kind='bar',title='total no of cases per year')"
   ]
  },
  {
   "cell_type": "markdown",
   "id": "c246ed40",
   "metadata": {},
   "source": [
    "### total no of cases per month in year 2021"
   ]
  },
  {
   "cell_type": "code",
   "execution_count": 148,
   "id": "5c2bd533",
   "metadata": {},
   "outputs": [
    {
     "name": "stdout",
     "output_type": "stream",
     "text": [
      "       number_ongoing_outbreaks\n",
      "month                          \n",
      "1                         32201\n",
      "2                         19631\n",
      "3                         18072\n",
      "4                         23984\n",
      "5                         19181\n",
      "6                          5928\n",
      "7                          2202\n",
      "8                          2825\n",
      "9                          5567\n",
      "10                         6740\n",
      "11                         8250\n",
      "12                        20221\n"
     ]
    },
    {
     "data": {
      "image/png": "[encoded data removed]",
      "text/plain": [
       "<Figure size 432x288 with 1 Axes>"
      ]
     },
     "metadata": {
      "needs_background": "light"
     },
     "output_type": "display_data"
    }
   ],
   "source": [
    "month_dataset=covid_dataset.query('date.dt.year==2021').groupby(covid_dataset['date'].dt.month).sum()\n",
    "\n",
    "month_dataset.index.rename('month',inplace=True)\n",
    "\n",
    "month_dataset.plot(kind='barh',title='total no of cases per month in year 2021')\n",
    "print(month_dataset)"
   ]
  },
  {
   "cell_type": "code",
   "execution_count": null,
   "id": "90c2dc8a",
   "metadata": {},
   "outputs": [],
   "source": []
  }
 ],
 "metadata": {
  "kernelspec": {
   "display_name": "Python 3 (ipykernel)",
   "language": "python",
   "name": "python3"
  },
  "language_info": {
   "codemirror_mode": {
    "name": "ipython",
    "version": 3
   },
   "file_extension": ".py",
   "mimetype": "text/x-python",
   "name": "python",
   "nbconvert_exporter": "python",
   "pygments_lexer": "ipython3",
   "version": "3.9.7"
  }
 },
 "nbformat": 4,
 "nbformat_minor": 5
}

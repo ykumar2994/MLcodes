{
 "cells": [
  {
   "cell_type": "markdown",
   "id": "61fa9bdf",
   "metadata": {},
   "source": [
    "# Activity 5"
   ]
  },
  {
   "cell_type": "code",
   "execution_count": 2,
   "id": "61385cf1",
   "metadata": {},
   "outputs": [
    {
     "data": {
      "text/plain": [
       "1"
      ]
     },
     "execution_count": 2,
     "metadata": {},
     "output_type": "execute_result"
    }
   ],
   "source": [
    "\n",
    "#if statements\n",
    "x=1\n",
    "if 7==0:\n",
    "    x=x+1\n",
    "x"
   ]
  },
  {
   "cell_type": "code",
   "execution_count": 3,
   "id": "62630412",
   "metadata": {},
   "outputs": [
    {
     "data": {
      "text/plain": [
       "1.0"
      ]
     },
     "execution_count": 3,
     "metadata": {},
     "output_type": "execute_result"
    }
   ],
   "source": [
    "x=1/1\n",
    "if type(x)==int:\n",
    "    x=x+1\n",
    "x"
   ]
  },
  {
   "cell_type": "code",
   "execution_count": 4,
   "id": "68941f9d",
   "metadata": {},
   "outputs": [
    {
     "data": {
      "text/plain": [
       "'goodbye world'"
      ]
     },
     "execution_count": 4,
     "metadata": {},
     "output_type": "execute_result"
    }
   ],
   "source": [
    "y = \"hello world\"\n",
    "if 'h' in y:\n",
    "    y = \"goodbye\" + y[-6:]\n",
    "y\n"
   ]
  },
  {
   "cell_type": "code",
   "execution_count": 5,
   "id": "63d7953c",
   "metadata": {},
   "outputs": [
    {
     "data": {
      "text/plain": [
       "'hello world'"
      ]
     },
     "execution_count": 5,
     "metadata": {},
     "output_type": "execute_result"
    }
   ],
   "source": [
    "y = \"hello world\"\n",
    "if 'a' in y:\n",
    "    y = \"\"\n",
    "y"
   ]
  },
  {
   "cell_type": "code",
   "execution_count": 8,
   "id": "c57cae7b",
   "metadata": {},
   "outputs": [
    {
     "name": "stdout",
     "output_type": "stream",
     "text": [
      "Positive\n",
      "Large positive\n"
     ]
    },
    {
     "data": {
      "text/plain": [
       "NoneType"
      ]
     },
     "execution_count": 8,
     "metadata": {},
     "output_type": "execute_result"
    }
   ],
   "source": [
    "def func(x):\n",
    "    if x > 0:\n",
    "        print(\"Positive\")\n",
    "    if x > 10**5:\n",
    "        print(\"Large positive\")\n",
    "ans = func(10**6)\n",
    "type(ans)\n"
   ]
  },
  {
   "cell_type": "code",
   "execution_count": 11,
   "id": "047855ab",
   "metadata": {},
   "outputs": [
    {
     "data": {
      "text/plain": [
       "'Positive'"
      ]
     },
     "execution_count": 11,
     "metadata": {},
     "output_type": "execute_result"
    }
   ],
   "source": [
    "def func2(x):\n",
    "    if x > 0:\n",
    "        return \"Positive\"\n",
    "    if x > 10**5:\n",
    "        return \"Large positive\"\n",
    "ans = func2(10**6)\n",
    "type(ans)"
   ]
  },
  {
   "cell_type": "code",
   "execution_count": 13,
   "id": "a07c1fb4",
   "metadata": {},
   "outputs": [
    {
     "data": {
      "text/plain": [
       "4"
      ]
     },
     "execution_count": 13,
     "metadata": {},
     "output_type": "execute_result"
    }
   ],
   "source": [
    "def min_of_2(x: float, y: float) -> float: \n",
    "    min_of_2 = x\n",
    "    if x<y:\n",
    "        return x\n",
    "    if x>y:\n",
    "        return y\n",
    "min_of_2(min_of_2(4,5),6)"
   ]
  },
  {
   "cell_type": "code",
   "execution_count": 14,
   "id": "f90c5b9a",
   "metadata": {},
   "outputs": [
    {
     "data": {
      "text/plain": [
       "4"
      ]
     },
     "execution_count": 14,
     "metadata": {},
     "output_type": "execute_result"
    }
   ],
   "source": [
    "def min_of_2(x: float, y: float) -> float: \n",
    "    if x<y:\n",
    "        return x\n",
    "    else:\n",
    "        return y\n",
    "min_of_2(min_of_2(4,5),6)"
   ]
  },
  {
   "cell_type": "code",
   "execution_count": 15,
   "id": "5fa23c3f",
   "metadata": {},
   "outputs": [
    {
     "data": {
      "text/plain": [
       "'fancy'"
      ]
     },
     "execution_count": 15,
     "metadata": {},
     "output_type": "execute_result"
    }
   ],
   "source": [
    "#Write a function that returns the longest of two strings.\n",
    "def longer_string(string1:str, string2:str) -> str:\n",
    "    if len(string1)>=len(string2): \n",
    "        return string1\n",
    "    else:\n",
    "        return string2\n",
    "longer_string(\"fancy\", \"pants\")"
   ]
  },
  {
   "cell_type": "code",
   "execution_count": 17,
   "id": "a4a36af3",
   "metadata": {},
   "outputs": [
    {
     "name": "stdout",
     "output_type": "stream",
     "text": [
      "maybe credit for you\n"
     ]
    }
   ],
   "source": [
    "#ELSE-iF\n",
    "credit='good'\n",
    "if credit == \"poor\":\n",
    "    print(\"no credit for you\")\n",
    "elif credit == \"good\":\n",
    "    print(\"maybe credit for you\") \n",
    "elif credit == \"excellent\":\n",
    "    print(\"let me give you credit\") \n",
    "else:\n",
    "    print(\"obtain credit score\")"
   ]
  },
  {
   "cell_type": "code",
   "execution_count": 19,
   "id": "b861a670",
   "metadata": {},
   "outputs": [
    {
     "data": {
      "text/plain": [
       "4.5"
      ]
     },
     "execution_count": 19,
     "metadata": {},
     "output_type": "execute_result"
    }
   ],
   "source": [
    "def max_of_3(x: float, y: float, z: float) -> float: \n",
    "    if x>y and x > z:\n",
    "        return x \n",
    "    elif y>x and y > z:\n",
    "        return y\n",
    "    else:\n",
    "        return z\n",
    "max_of_3(3.5,4.5,1.5)\n"
   ]
  },
  {
   "cell_type": "code",
   "execution_count": 22,
   "id": "ac70727f",
   "metadata": {},
   "outputs": [
    {
     "name": "stdout",
     "output_type": "stream",
     "text": [
      "x is positive\n",
      "x is not small\n",
      "x is pretty big\n"
     ]
    }
   ],
   "source": [
    "#nested IF\n",
    "x = float('inf')\n",
    "if x > 0:\n",
    "    print(\"x is positive\")\n",
    "    if x > 1:\n",
    "        print(\"x is not small\") \n",
    "        if x > 10**10:\n",
    "            print(\"x is pretty big\")"
   ]
  },
  {
   "cell_type": "code",
   "execution_count": 27,
   "id": "20d56e40",
   "metadata": {},
   "outputs": [
    {
     "name": "stdout",
     "output_type": "stream",
     "text": [
      "hello\n"
     ]
    }
   ],
   "source": [
    "x=5\n",
    "y=6\n",
    "z=8\n",
    "if x>1 and y>2 and z>3: \n",
    "    print(\"hello\")\n"
   ]
  },
  {
   "cell_type": "code",
   "execution_count": 28,
   "id": "5ad64b36",
   "metadata": {},
   "outputs": [
    {
     "data": {
      "text/plain": [
       "True"
      ]
     },
     "execution_count": 28,
     "metadata": {},
     "output_type": "execute_result"
    }
   ],
   "source": [
    "#Simplifying If-Statements\n",
    "def func1(x):\n",
    "    return x>0\n",
    "func1(100)"
   ]
  },
  {
   "cell_type": "code",
   "execution_count": 30,
   "id": "51cf6b0a",
   "metadata": {},
   "outputs": [
    {
     "data": {
      "text/plain": [
       "True"
      ]
     },
     "execution_count": 30,
     "metadata": {},
     "output_type": "execute_result"
    }
   ],
   "source": [
    "x=10\n",
    "y=x>0\n",
    "y"
   ]
  },
  {
   "cell_type": "code",
   "execution_count": 31,
   "id": "9bc379a1",
   "metadata": {},
   "outputs": [
    {
     "data": {
      "text/plain": [
       "6"
      ]
     },
     "execution_count": 31,
     "metadata": {},
     "output_type": "execute_result"
    }
   ],
   "source": [
    "#What is the value of z after executing the following?\n",
    "(x, y, z) = (1, 2, 3)\n",
    "if x < y:\n",
    "    if y > 4:\n",
    "        z=5\n",
    "    else:\n",
    "        z=6\n",
    "z"
   ]
  },
  {
   "cell_type": "code",
   "execution_count": 32,
   "id": "c808a4df",
   "metadata": {},
   "outputs": [
    {
     "data": {
      "text/plain": [
       "0"
      ]
     },
     "execution_count": 32,
     "metadata": {},
     "output_type": "execute_result"
    }
   ],
   "source": [
    "#What is the value of total after this code runs?\n",
    "(total, first, second) = (0, 4, 0) \n",
    "if first > 5:\n",
    "    if first == 4: \n",
    "        first = 6\n",
    "        total = total + 1\n",
    "    else:\n",
    "        total = total + 2 \n",
    "else:\n",
    "    if first > 5:\n",
    "        total = total + 1\n",
    "total"
   ]
  },
  {
   "cell_type": "code",
   "execution_count": 33,
   "id": "200cf71f",
   "metadata": {},
   "outputs": [
    {
     "data": {
      "text/plain": [
       "'aaaa'"
      ]
     },
     "execution_count": 33,
     "metadata": {},
     "output_type": "execute_result"
    }
   ],
   "source": [
    "#Write a Python function that compares between two strings and return the longest one.\n",
    "def long_string(st1: str, st2: str) -> str: \n",
    "    if len(st1) >= len(st2): \n",
    "        return st1\n",
    "    else:\n",
    "        return st2\n",
    "long_string(\"bbb\", \"aaaa\")\n"
   ]
  },
  {
   "cell_type": "markdown",
   "id": "30c4b03d",
   "metadata": {},
   "source": [
    "Write a Python function to compute T from:\n",
    "𝑤2\n",
    "𝑇ሺ𝑤ሻ ൌ ቐ10𝑤\n",
    "𝑤\n",
    "𝑖𝑓 2 ൏𝑤൏ 5\n",
    "𝑖𝑓 𝑤 ൒ 5\n",
    "𝑒𝑙𝑠�"
   ]
  },
  {
   "cell_type": "code",
   "execution_count": 37,
   "id": "e38dd795",
   "metadata": {},
   "outputs": [
    {
     "data": {
      "text/plain": [
       "90"
      ]
     },
     "execution_count": 37,
     "metadata": {},
     "output_type": "execute_result"
    }
   ],
   "source": [
    "def ComputeT(w): \n",
    "    if w>2 and w < 5: \n",
    "        t = w**2\n",
    "    elif w >= 5:\n",
    "        t = 10*w \n",
    "    else:\n",
    "        t=w\n",
    "    return t\n",
    "ComputeT(9)"
   ]
  },
  {
   "cell_type": "markdown",
   "id": "f15a14ee",
   "metadata": {},
   "source": [
    "# Activity 6"
   ]
  },
  {
   "cell_type": "code",
   "execution_count": 39,
   "id": "62249631",
   "metadata": {},
   "outputs": [
    {
     "name": "stdout",
     "output_type": "stream",
     "text": [
      "a\n",
      "b\n",
      "c\n",
      "d\n",
      "e\n"
     ]
    },
    {
     "data": {
      "text/plain": [
       "'e'"
      ]
     },
     "execution_count": 39,
     "metadata": {},
     "output_type": "execute_result"
    }
   ],
   "source": [
    "#for loops\n",
    "for i in \"abcde\":\n",
    "    print(i)\n",
    "i"
   ]
  },
  {
   "cell_type": "code",
   "execution_count": 40,
   "id": "8cb9fd2d",
   "metadata": {},
   "outputs": [
    {
     "name": "stdout",
     "output_type": "stream",
     "text": [
      "a\n",
      "ab\n",
      "abc\n",
      "abcd\n",
      "abcde\n"
     ]
    }
   ],
   "source": [
    "st=''\n",
    "for i in \"abcde\":\n",
    "    st = st + i \n",
    "    print(st)"
   ]
  },
  {
   "cell_type": "code",
   "execution_count": 41,
   "id": "24e3b87f",
   "metadata": {},
   "outputs": [
    {
     "name": "stdout",
     "output_type": "stream",
     "text": [
      "0\n",
      "1\n",
      "2\n",
      "3\n",
      "4\n"
     ]
    }
   ],
   "source": [
    "#usage of range function\n",
    "for x in range(5):\n",
    "    print(x)"
   ]
  },
  {
   "cell_type": "code",
   "execution_count": 42,
   "id": "456284b1",
   "metadata": {},
   "outputs": [
    {
     "name": "stdout",
     "output_type": "stream",
     "text": [
      "3\n",
      "4\n",
      "5\n"
     ]
    }
   ],
   "source": [
    "for x in range(3, 6): \n",
    "    print(x)"
   ]
  },
  {
   "cell_type": "code",
   "execution_count": 44,
   "id": "40938810",
   "metadata": {},
   "outputs": [
    {
     "name": "stdout",
     "output_type": "stream",
     "text": [
      "3\n",
      "5\n",
      "7\n"
     ]
    }
   ],
   "source": [
    "for x in range(3,8,2):\n",
    "    print(x)"
   ]
  },
  {
   "cell_type": "code",
   "execution_count": 48,
   "id": "675f3e8b",
   "metadata": {},
   "outputs": [],
   "source": [
    "for i in range(-5):\n",
    "    print('Hello, world!')\n",
    "#range function do nothing for -ve values for start and end."
   ]
  },
  {
   "cell_type": "code",
   "execution_count": 49,
   "id": "e852a9e6",
   "metadata": {},
   "outputs": [
    {
     "name": "stdout",
     "output_type": "stream",
     "text": [
      "1\n",
      "3\n",
      "6\n",
      "10\n",
      "15\n"
     ]
    }
   ],
   "source": [
    "result = 0\n",
    "n=5\n",
    "for i in range(1, n + 1):\n",
    "    result += i \n",
    "    print(result)"
   ]
  },
  {
   "cell_type": "code",
   "execution_count": 50,
   "id": "66121958",
   "metadata": {},
   "outputs": [
    {
     "name": "stdout",
     "output_type": "stream",
     "text": [
      "10\n",
      "8\n",
      "6\n",
      "4\n",
      "2\n"
     ]
    }
   ],
   "source": [
    "for i in range(10, 0, -2): \n",
    "    print(i)\n",
    "# -ve values can be used in step arugment"
   ]
  },
  {
   "cell_type": "code",
   "execution_count": 52,
   "id": "35683cbf",
   "metadata": {},
   "outputs": [
    {
     "name": "stdout",
     "output_type": "stream",
     "text": [
      "1a\n",
      "1b\n",
      "2a\n",
      "2b\n",
      "3a\n",
      "3b\n"
     ]
    }
   ],
   "source": [
    "#Nested for loops\n",
    "digits = \"123\"\n",
    "alphas = \"ab\"\n",
    "for d in digits:\n",
    "    for a in alphas:\n",
    "        print(d + a)"
   ]
  },
  {
   "cell_type": "code",
   "execution_count": 54,
   "id": "3d35a16e",
   "metadata": {},
   "outputs": [
    {
     "data": {
      "text/plain": [
       "'Ryerson university'"
      ]
     },
     "execution_count": 54,
     "metadata": {},
     "output_type": "execute_result"
    }
   ],
   "source": [
    "#some string built-in methods\n",
    "\"Ryerson university\".capitalize() \n"
   ]
  },
  {
   "cell_type": "code",
   "execution_count": 55,
   "id": "7093c620",
   "metadata": {},
   "outputs": [
    {
     "data": {
      "text/plain": [
       "2"
      ]
     },
     "execution_count": 55,
     "metadata": {},
     "output_type": "execute_result"
    }
   ],
   "source": [
    "\"ryerson university\".count(\"e\") \n"
   ]
  },
  {
   "cell_type": "code",
   "execution_count": 56,
   "id": "653dc540",
   "metadata": {},
   "outputs": [
    {
     "data": {
      "text/plain": [
       "2"
      ]
     },
     "execution_count": 56,
     "metadata": {},
     "output_type": "execute_result"
    }
   ],
   "source": [
    "\"ryerson university\".find(\"e\") \n"
   ]
  },
  {
   "cell_type": "code",
   "execution_count": 57,
   "id": "3a390365",
   "metadata": {},
   "outputs": [
    {
     "data": {
      "text/plain": [
       "True"
      ]
     },
     "execution_count": 57,
     "metadata": {},
     "output_type": "execute_result"
    }
   ],
   "source": [
    "\"123\".isdigit()"
   ]
  },
  {
   "cell_type": "code",
   "execution_count": 58,
   "id": "7a9cd849",
   "metadata": {},
   "outputs": [
    {
     "data": {
      "text/plain": [
       "False"
      ]
     },
     "execution_count": 58,
     "metadata": {},
     "output_type": "execute_result"
    }
   ],
   "source": [
    "\n",
    "\"123.456\".isdigit() \n"
   ]
  },
  {
   "cell_type": "code",
   "execution_count": 59,
   "id": "4c35fa4c",
   "metadata": {},
   "outputs": [
    {
     "data": {
      "text/plain": [
       "4"
      ]
     },
     "execution_count": 59,
     "metadata": {},
     "output_type": "execute_result"
    }
   ],
   "source": [
    "\"1234.56\".find(\".\") \n"
   ]
  },
  {
   "cell_type": "code",
   "execution_count": 60,
   "id": "79767eea",
   "metadata": {},
   "outputs": [
    {
     "data": {
      "text/plain": [
       "7"
      ]
     },
     "execution_count": 60,
     "metadata": {},
     "output_type": "execute_result"
    }
   ],
   "source": [
    "\"123.456E7\".find(\"E\")"
   ]
  },
  {
   "cell_type": "markdown",
   "id": "54b982bb",
   "metadata": {},
   "source": [
    "Thank you!!\n",
    "Yogesh kumar - C0852435"
   ]
  },
  {
   "cell_type": "code",
   "execution_count": null,
   "id": "bc8023b5",
   "metadata": {},
   "outputs": [],
   "source": []
  }
 ],
 "metadata": {
  "kernelspec": {
   "display_name": "Python 3 (ipykernel)",
   "language": "python",
   "name": "python3"
  },
  "language_info": {
   "codemirror_mode": {
    "name": "ipython",
    "version": 3
   },
   "file_extension": ".py",
   "mimetype": "text/x-python",
   "name": "python",
   "nbconvert_exporter": "python",
   "pygments_lexer": "ipython3",
   "version": "3.9.7"
  }
 },
 "nbformat": 4,
 "nbformat_minor": 5
}

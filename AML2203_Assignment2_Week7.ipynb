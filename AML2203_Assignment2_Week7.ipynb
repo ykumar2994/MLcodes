{
 "cells": [
  {
   "cell_type": "markdown",
   "id": "a4147889",
   "metadata": {},
   "source": [
    "# AML 2203 Assignment 2\n",
    "# Student ID - C0852435\n",
    "# Student name - Yogesh Kumar"
   ]
  },
  {
   "cell_type": "markdown",
   "id": "384f0078",
   "metadata": {},
   "source": [
    "# Week 7"
   ]
  },
  {
   "cell_type": "markdown",
   "id": "2d3f27a3",
   "metadata": {},
   "source": [
    "# Word Tokenization"
   ]
  },
  {
   "cell_type": "code",
   "execution_count": 1,
   "id": "4836dab0",
   "metadata": {},
   "outputs": [
    {
     "name": "stdout",
     "output_type": "stream",
     "text": [
      "['Hello', 'everyone', 'Welcome', 'to', 'Word', 'Tokenization']\n"
     ]
    }
   ],
   "source": [
    "from sklearn.feature_extraction.text import CountVectorizer\n",
    "\n",
    "text = \"Hello everyone. Welcome to Word Tokenization\"\n",
    "\n",
    "vectorizer = CountVectorizer()\n",
    "\n",
    "tokenizer = vectorizer.build_tokenizer()\n",
    "\n",
    "tokens = tokenizer(text)\n",
    "\n",
    "print(tokens)"
   ]
  },
  {
   "cell_type": "markdown",
   "id": "adce021d",
   "metadata": {},
   "source": [
    "# Removal of Stop Words"
   ]
  },
  {
   "cell_type": "code",
   "execution_count": 2,
   "id": "3cf720a2",
   "metadata": {},
   "outputs": [
    {
     "name": "stdout",
     "output_type": "stream",
     "text": [
      "['well', 'fill', 'across', 'however', 'his', 'thin', 'system', 'an', 'thick', 'both', 'seeming', 'seemed', 'himself', 'around', 'sometime', 'its', 'of', 'seem', 'before', 'every', 'she', 'less', 'them', 'get', 'fifty', 'how', 'top', 'one', 'latterly', 'your', 'but', 'through', 'name', 'if', 'whether', 'becoming', 'another', 'us', 'also', 'except', 'hereafter', 'yourself', 'is', 'neither', 'to', 'something', 'so', 'anyone', 'by', 'cannot', 'done', 'ie', 'into', 'serious', 'somehow', 'some', 'we', 'until', 'while', 'several', 'almost', 'nowhere', 'anywhere', 'seems', 'were', 'former', 'are', 'since', 'afterwards', 'throughout', 'be', 'can', 'take', 'already', 'whereupon', 'couldnt', 'no', 'now', 'may', 'sincere', 'from', 'indeed', 'twenty', 'was', 'per', 'or', 'whole', 'against', 'then', 'call', 'everyone', 'none', 'yet', 'sixty', 'which', 'thus', 'becomes', 'formerly', 'inc', 'few', 'co', 'i', 'mostly', 'ltd', 'hereupon', 'why', 'under', 'mine', 'anyhow', 'after', 'meanwhile', 'toward', 'give', 'everything', 'same', 'beyond', 'four', 'un', 'whatever', 'it', 'part', 'my', 'without', 'all', 'etc', 'you', 'latter', 'upon', 'any', 'whereas', 'myself', 'our', 'cant', 'when', 'nine', 'thereupon', 'fifteen', 'side', 'ourselves', 'too', 'such', 'these', 'anyway', 'further', 'enough', 'me', 'bottom', 'though', 'therein', 'among', 'not', 'moreover', 'cry', 'wherein', 'show', 'whom', 'everywhere', 'always', 'whenever', 'third', 'during', 'whoever', 'much', 'wherever', 'noone', 'eleven', 'herself', 'with', 'last', 'con', 'should', 'ever', 'interest', 'see', 'someone', 'whereby', 'thru', 'besides', 'keep', 'once', 'often', 'anything', 'at', 'the', 'put', 'elsewhere', 'even', 'rather', 'find', 'next', 'own', 'detail', 'off', 'been', 'this', 'between', 'due', 'what', 'sometimes', 'others', 'thence', 'those', 'her', 'five', 'hasnt', 'do', 'first', 'him', 'on', 'very', 'beside', 'over', 'hence', 'might', 'nobody', 'hers', 'describe', 'must', 'hereby', 'he', 'herein', 'nor', 'become', 'itself', 'via', 'amount', 'de', 'about', 'could', 'twelve', 'forty', 'go', 'out', 'as', 'together', 'empty', 'would', 'where', 'below', 'onto', 'again', 'a', 'their', 'either', 'move', 'within', 'who', 'and', 'being', 'hundred', 'eg', 'six', 'whereafter', 'here', 'somewhere', 'had', 'yours', 'more', 'front', 'there', 'for', 'each', 'alone', 'whence', 'that', 'nevertheless', 'ours', 're', 'behind', 'whose', 'have', 'up', 'beforehand', 'in', 'two', 'namely', 'although', 'please', 'found', 'because', 'three', 'whither', 'they', 'only', 'perhaps', 'still', 'mill', 'themselves', 'made', 'am', 'bill', 'other', 'many', 'otherwise', 'amongst', 'will', 'towards', 'therefore', 'full', 'above', 'yourselves', 'than', 'became', 'down', 'along', 'back', 'least', 'thereby', 'else', 'thereafter', 'ten', 'has', 'fire', 'eight', 'most', 'nothing', 'never', 'amoungst']\n"
     ]
    }
   ],
   "source": [
    "from sklearn.feature_extraction import _stop_words\n",
    "\n",
    "StopWords = list(_stop_words.ENGLISH_STOP_WORDS)\n",
    "\n",
    "print(StopWords)"
   ]
  },
  {
   "cell_type": "code",
   "execution_count": 3,
   "id": "20ead079",
   "metadata": {},
   "outputs": [
    {
     "name": "stdout",
     "output_type": "stream",
     "text": [
      "['There', 'was', 'no', 'chance', 'for', 'any', 'character', 'development', 'they', 'were', 'busy']\n",
      "['There', 'chance', 'character', 'development', 'busy']\n"
     ]
    }
   ],
   "source": [
    "from sklearn.feature_extraction.text import CountVectorizer\n",
    "from sklearn.feature_extraction import _stop_words\n",
    "\n",
    "text = \"There was no chance for any character development they were busy\"\n",
    "\n",
    "StopWords = list(_stop_words.ENGLISH_STOP_WORDS)\n",
    "\n",
    "vectorizer = CountVectorizer()\n",
    "tokenizer = vectorizer.build_tokenizer()\n",
    "words = tokenizer(text)\n",
    "\n",
    "result = []\n",
    "\n",
    "for w in words:\n",
    "    if w not in StopWords:\n",
    "        result.append(w)\n",
    "print(words)\n",
    "print(result)"
   ]
  },
  {
   "cell_type": "markdown",
   "id": "e081fb66",
   "metadata": {},
   "source": [
    "# Stemming"
   ]
  },
  {
   "cell_type": "code",
   "execution_count": 4,
   "id": "dd8c9b88",
   "metadata": {},
   "outputs": [
    {
     "name": "stdout",
     "output_type": "stream",
     "text": [
      "['destabil', 'program', 'programm']\n"
     ]
    }
   ],
   "source": [
    "from sklearn.feature_extraction.text import CountVectorizer\n",
    "from nltk.stem import PorterStemmer\n",
    "\n",
    "stemmer = PorterStemmer()\n",
    "analyzer = CountVectorizer().build_analyzer()\n",
    "words = [\"program\",\"programs\",\"programmer\",\"programming\",\"destabilize\"]\n",
    "\n",
    "def stemmed_words(doc):\n",
    "    return (stemmer.stem(w) for w in analyzer(doc))\n",
    "\n",
    "stem_vectorizer = CountVectorizer(analyzer=stemmed_words)\n",
    "stem_vectorizer.fit_transform(words)\n",
    "print(stem_vectorizer.get_feature_names())"
   ]
  },
  {
   "cell_type": "markdown",
   "id": "8de7a93d",
   "metadata": {},
   "source": [
    "# Bag of Words"
   ]
  },
  {
   "cell_type": "code",
   "execution_count": 5,
   "id": "21d0c5a5",
   "metadata": {},
   "outputs": [
    {
     "name": "stdout",
     "output_type": "stream",
     "text": [
      "21\n",
      "{'movie': 15, '10': 0, 'awful': 2, 'movies': 16, 'wasn': 20, 'continous': 7, 'minute': 13, 'fight': 11, 'monster': 14, 'chance': 5, 'character': 6, 'development': 9, 'busy': 4, 'running': 17, 'sword': 18, 'emotional': 10, 'attachment': 1, 'big': 3, 'machine': 12, 'wanted': 19, 'destroy': 8}\n",
      "<bound method _cs_matrix.toarray of <4x21 sparse matrix of type '<class 'numpy.int64'>'\n",
      "\twith 22 stored elements in Compressed Sparse Row format>>\n"
     ]
    }
   ],
   "source": [
    "from sklearn.feature_extraction.text import CountVectorizer\n",
    "from sklearn.feature_extraction import _stop_words\n",
    "\n",
    "text = [\"This movie made it into one of my top 10 most awful movies.\",\n",
    "\"There wasn't a continous minute where there wasn't a fight with one monster or another.\",\n",
    "\"There was no chance for any character development, they were too busy running from one sword fight to another.\",\n",
    "\"I had no emotional attachment ( except to the big machine ## that wanted to destroy them\"]\n",
    "\n",
    "StopWords = list(_stop_words.ENGLISH_STOP_WORDS)\n",
    "\n",
    "vectorizer = CountVectorizer(stop_words=StopWords)\n",
    "vectorizer.fit(text)\n",
    "\n",
    "print(len(vectorizer.vocabulary_))\n",
    "print(vectorizer.vocabulary_)\n",
    "\n",
    "vectors = vectorizer.transform(text)\n",
    "\n",
    "print(vectors.toarray)"
   ]
  },
  {
   "cell_type": "markdown",
   "id": "bf83d3d5",
   "metadata": {},
   "source": [
    "# TF-IDF"
   ]
  },
  {
   "cell_type": "code",
   "execution_count": 6,
   "id": "f1c78cc8",
   "metadata": {},
   "outputs": [
    {
     "name": "stdout",
     "output_type": "stream",
     "text": [
      "\n",
      "idf Values:\n",
      "data : 1.5108256237659907\n",
      "language : 1.916290731874155\n",
      "natural : 1.5108256237659907\n",
      "nlp : 1.916290731874155\n",
      "processing : 1.5108256237659907\n"
     ]
    }
   ],
   "source": [
    "from sklearn.feature_extraction.text import TfidfVectorizer\n",
    "data = ['Natural Language Processing','Natural data','NLP','Data Processing']\n",
    "tfidf = TfidfVectorizer()\n",
    "result = tfidf.fit_transform(data)\n",
    "print(\"\\nidf Values:\")\n",
    "for ele1, ele2 in zip(tfidf.get_feature_names(), tfidf.idf_):\n",
    "    print(ele1, \":\", ele2)"
   ]
  },
  {
   "cell_type": "code",
   "execution_count": 7,
   "id": "50d0bc88",
   "metadata": {},
   "outputs": [
    {
     "name": "stdout",
     "output_type": "stream",
     "text": [
      "\n",
      "Word indexes:\n",
      "{'natural': 2, 'language': 1, 'processing': 4, 'data': 0, 'nlp': 3}\n",
      "\n",
      "tf-idf values in matrix form:\n",
      "[[0.         0.66767854 0.52640543 0.         0.52640543]\n",
      " [0.70710678 0.         0.70710678 0.         0.        ]\n",
      " [0.         0.         0.         1.         0.        ]\n",
      " [0.70710678 0.         0.         0.         0.70710678]]\n"
     ]
    }
   ],
   "source": [
    "print(\"\\nWord indexes:\")\n",
    "print(tfidf.vocabulary_)\n",
    "\n",
    "print(\"\\ntf-idf values in matrix form:\")\n",
    "print(result.toarray())"
   ]
  }
 ],
 "metadata": {
  "kernelspec": {
   "display_name": "Python 3 (ipykernel)",
   "language": "python",
   "name": "python3"
  },
  "language_info": {
   "codemirror_mode": {
    "name": "ipython",
    "version": 3
   },
   "file_extension": ".py",
   "mimetype": "text/x-python",
   "name": "python",
   "nbconvert_exporter": "python",
   "pygments_lexer": "ipython3",
   "version": "3.9.7"
  }
 },
 "nbformat": 4,
 "nbformat_minor": 5
}

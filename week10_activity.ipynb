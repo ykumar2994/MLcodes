{
 "cells": [
  {
   "cell_type": "markdown",
   "id": "ee43599c",
   "metadata": {},
   "source": [
    "# Week 10 Activity"
   ]
  },
  {
   "cell_type": "code",
   "execution_count": 1,
   "id": "8f6a793a",
   "metadata": {},
   "outputs": [
    {
     "name": "stdout",
     "output_type": "stream",
     "text": [
      "hello function\n"
     ]
    }
   ],
   "source": [
    "def fun():\n",
    "    print(\"hello function\")\n",
    "fun()"
   ]
  },
  {
   "cell_type": "code",
   "execution_count": 7,
   "id": "53380121",
   "metadata": {},
   "outputs": [
    {
     "name": "stdout",
     "output_type": "stream",
     "text": [
      "not equal\n"
     ]
    },
    {
     "data": {
      "text/plain": [
       "3"
      ]
     },
     "execution_count": 7,
     "metadata": {},
     "output_type": "execute_result"
    }
   ],
   "source": [
    "def fun(a,b,c):\n",
    "    if a==10:\n",
    "        print(\"a is equal to 10\")\n",
    "        return a+b+c\n",
    "    else :\n",
    "        print(\"not equal\")\n",
    "        return a+b\n",
    "fun(1,2,3)\n",
    "print()"
   ]
  },
  {
   "cell_type": "code",
   "execution_count": 8,
   "id": "e47669b0",
   "metadata": {},
   "outputs": [
    {
     "data": {
      "text/plain": [
       "60"
      ]
     },
     "execution_count": 8,
     "metadata": {},
     "output_type": "execute_result"
    }
   ],
   "source": [
    "def fun(a=10,b=20,c=30):\n",
    "    return a+b+c\n",
    "\n",
    "fun()"
   ]
  },
  {
   "cell_type": "code",
   "execution_count": 15,
   "id": "eb845b33",
   "metadata": {},
   "outputs": [
    {
     "name": "stdout",
     "output_type": "stream",
     "text": [
      "10\n",
      "20\n",
      "30\n",
      "50\n",
      "20\n",
      "30\n",
      "50\n",
      "60\n",
      "30\n",
      "50\n",
      "60\n",
      "40\n",
      "10\n",
      "20\n",
      "100\n",
      "90\n",
      "20\n",
      "100\n",
      "3\n",
      "20\n",
      "30\n"
     ]
    },
    {
     "data": {
      "text/plain": [
       "53"
      ]
     },
     "execution_count": 15,
     "metadata": {},
     "output_type": "execute_result"
    }
   ],
   "source": [
    "def fun(a=10,b=20,c=30):\n",
    "    print(a)\n",
    "    print(b)\n",
    "    print(c)\n",
    "    return a+b+c\n",
    "\n",
    "fun()\n",
    "fun(50)\n",
    "fun(50,60)\n",
    "fun(50,60,40)\n",
    "fun(c=100)\n",
    "fun(c=100,a=90)\n",
    "a=3\n",
    "fun(a)"
   ]
  },
  {
   "cell_type": "code",
   "execution_count": 16,
   "id": "9fac6fe1",
   "metadata": {},
   "outputs": [
    {
     "name": "stdout",
     "output_type": "stream",
     "text": [
      "[1, 2, 3]\n",
      "None\n"
     ]
    }
   ],
   "source": [
    "def fun(l1):\n",
    "    print(l1)\n",
    "\n",
    "l1=[1,2,3]\n",
    "print(fun(l1))"
   ]
  },
  {
   "cell_type": "code",
   "execution_count": 22,
   "id": "b48c383a",
   "metadata": {},
   "outputs": [
    {
     "name": "stdout",
     "output_type": "stream",
     "text": [
      "90\n"
     ]
    }
   ],
   "source": [
    "def fun():\n",
    "    a=10\n",
    "    b=20\n",
    "a=90\n",
    "fun()\n",
    "print(a)\n",
    "#print(b)"
   ]
  },
  {
   "cell_type": "code",
   "execution_count": 21,
   "id": "b72bea5f",
   "metadata": {},
   "outputs": [
    {
     "name": "stdout",
     "output_type": "stream",
     "text": [
      "['R']\n",
      "['R']\n"
     ]
    }
   ],
   "source": [
    "def add(list1,list2):\n",
    "    list1.append(\"New value\")\n",
    "    list1=list2\n",
    "    print(list1)\n",
    "    print(list2)\n",
    "list1=[\"python\"]\n",
    "list2=[\"R\"]\n",
    "add(list1,list2)"
   ]
  },
  {
   "cell_type": "code",
   "execution_count": 25,
   "id": "eaddb2b8",
   "metadata": {},
   "outputs": [
    {
     "name": "stdout",
     "output_type": "stream",
     "text": [
      "11\n",
      "14\n"
     ]
    }
   ],
   "source": [
    "def fun(a):\n",
    "    global y\n",
    "    y=a\n",
    "    b=20\n",
    "\n",
    "fun(11)\n",
    "print(y)\n",
    "\n",
    "def fun1():\n",
    "    z=y+3\n",
    "    print(z)\n",
    "fun1()"
   ]
  },
  {
   "cell_type": "code",
   "execution_count": 27,
   "id": "0218cec0",
   "metadata": {},
   "outputs": [
    {
     "name": "stdout",
     "output_type": "stream",
     "text": [
      "(1, 2)\n",
      "(1, 2, 3, 4)\n",
      "(1, 1, 2, 3, 2)\n"
     ]
    }
   ],
   "source": [
    "def fun(*args):\n",
    "    print(args)\n",
    "\n",
    "fun(1,2)\n",
    "fun(1,2,3,4)\n",
    "fun(1,1,2,3,2)"
   ]
  },
  {
   "cell_type": "code",
   "execution_count": 29,
   "id": "46a5681d",
   "metadata": {},
   "outputs": [
    {
     "name": "stdout",
     "output_type": "stream",
     "text": [
      "2\n",
      "4\n"
     ]
    }
   ],
   "source": [
    "def fun(*args):\n",
    "    n=0\n",
    "    for i in args:\n",
    "        n=n+1\n",
    "    print(n)\n",
    "\n",
    "fun(1,2)\n",
    "fun(1,2,3,4)\n"
   ]
  },
  {
   "cell_type": "code",
   "execution_count": 30,
   "id": "756d9719",
   "metadata": {},
   "outputs": [
    {
     "name": "stdout",
     "output_type": "stream",
     "text": [
      "{'a': 'apple', 'b': 'ball'}\n"
     ]
    }
   ],
   "source": [
    "def fun(**args):\n",
    "    print(args)\n",
    "\n",
    "fun(a=\"apple\",b=\"ball\")"
   ]
  },
  {
   "cell_type": "code",
   "execution_count": 34,
   "id": "dc6fcc9b",
   "metadata": {},
   "outputs": [
    {
     "name": "stdout",
     "output_type": "stream",
     "text": [
      "a :::::::::: apple\n",
      "b :::::::::: ball\n"
     ]
    }
   ],
   "source": [
    "def fun(**args):\n",
    "    for k,v in args.items():\n",
    "        print(k,'::::::::::',v)\n",
    "\n",
    "fun(a=\"apple\",b=\"ball\")"
   ]
  },
  {
   "cell_type": "code",
   "execution_count": 36,
   "id": "aaf32ac4",
   "metadata": {},
   "outputs": [
    {
     "name": "stdout",
     "output_type": "stream",
     "text": [
      "<enumerate object at 0x00000257CD786AC0>\n",
      "((0, 'apple'), (1, 'ball'))\n"
     ]
    }
   ],
   "source": [
    "a=['apple','ball']\n",
    "print(enumerate(a))\n",
    "print(tuple(enumerate(a)))"
   ]
  },
  {
   "cell_type": "code",
   "execution_count": null,
   "id": "e0577923",
   "metadata": {},
   "outputs": [],
   "source": [
    "while (True):\n",
    "    a=input(\"enter a\")\n",
    "    b=input(\"enter b\")\n",
    "    try:\n",
    "        l=int(a)\n",
    "        m=int(b)\n",
    "        c=1/m\n",
    "    except ZeroDivisionError:\n",
    "        print(\"b can't be zero\")\n",
    "    except TypeError:\n",
    "        print(\"why are you dividing by string\")\n",
    "    else:\n",
    "        print(\"in else\")\n",
    "    finally:\n",
    "        print(\"finally\")\n",
    "    break\n",
    "            "
   ]
  },
  {
   "cell_type": "code",
   "execution_count": null,
   "id": "a2a51490",
   "metadata": {},
   "outputs": [],
   "source": []
  }
 ],
 "metadata": {
  "kernelspec": {
   "display_name": "Python 3 (ipykernel)",
   "language": "python",
   "name": "python3"
  },
  "language_info": {
   "codemirror_mode": {
    "name": "ipython",
    "version": 3
   },
   "file_extension": ".py",
   "mimetype": "text/x-python",
   "name": "python",
   "nbconvert_exporter": "python",
   "pygments_lexer": "ipython3",
   "version": "3.9.7"
  }
 },
 "nbformat": 4,
 "nbformat_minor": 5
}

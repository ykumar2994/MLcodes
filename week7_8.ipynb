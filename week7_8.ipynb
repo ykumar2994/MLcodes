{
 "cells": [
  {
   "cell_type": "markdown",
   "id": "29772936",
   "metadata": {},
   "source": [
    "# Week 7 Activicty"
   ]
  },
  {
   "cell_type": "code",
   "execution_count": 2,
   "id": "459da905",
   "metadata": {},
   "outputs": [
    {
     "data": {
      "text/plain": [
       "tuple"
      ]
     },
     "execution_count": 2,
     "metadata": {},
     "output_type": "execute_result"
    }
   ],
   "source": [
    "st = (1,2)\n",
    "type(st)"
   ]
  },
  {
   "cell_type": "code",
   "execution_count": 3,
   "id": "5e91a23c",
   "metadata": {},
   "outputs": [
    {
     "data": {
      "text/plain": [
       "1"
      ]
     },
     "execution_count": 3,
     "metadata": {},
     "output_type": "execute_result"
    }
   ],
   "source": [
    "st[0]"
   ]
  },
  {
   "cell_type": "code",
   "execution_count": 5,
   "id": "7fceaebe",
   "metadata": {},
   "outputs": [
    {
     "ename": "TypeError",
     "evalue": "'tuple' object does not support item assignment",
     "output_type": "error",
     "traceback": [
      "\u001b[1;31m---------------------------------------------------------------------------\u001b[0m",
      "\u001b[1;31mTypeError\u001b[0m                                 Traceback (most recent call last)",
      "\u001b[1;32m~\\AppData\\Local\\Temp/ipykernel_11100/265361943.py\u001b[0m in \u001b[0;36m<module>\u001b[1;34m\u001b[0m\n\u001b[1;32m----> 1\u001b[1;33m \u001b[0mst\u001b[0m\u001b[1;33m[\u001b[0m\u001b[1;36m0\u001b[0m\u001b[1;33m]\u001b[0m\u001b[1;33m=\u001b[0m\u001b[1;36m3\u001b[0m\u001b[1;33m\u001b[0m\u001b[1;33m\u001b[0m\u001b[0m\n\u001b[0m",
      "\u001b[1;31mTypeError\u001b[0m: 'tuple' object does not support item assignment"
     ]
    }
   ],
   "source": [
    "st[0]=3"
   ]
  },
  {
   "cell_type": "code",
   "execution_count": 7,
   "id": "0e8abc44",
   "metadata": {},
   "outputs": [
    {
     "data": {
      "text/plain": [
       "list"
      ]
     },
     "execution_count": 7,
     "metadata": {},
     "output_type": "execute_result"
    }
   ],
   "source": [
    "st = [1,2]\n",
    "type(st)"
   ]
  },
  {
   "cell_type": "code",
   "execution_count": 8,
   "id": "e9c8282f",
   "metadata": {},
   "outputs": [
    {
     "data": {
      "text/plain": [
       "[3, 2]"
      ]
     },
     "execution_count": 8,
     "metadata": {},
     "output_type": "execute_result"
    }
   ],
   "source": [
    "st[0] = 3\n",
    "st"
   ]
  },
  {
   "cell_type": "code",
   "execution_count": 10,
   "id": "eb52fd39",
   "metadata": {},
   "outputs": [
    {
     "name": "stdout",
     "output_type": "stream",
     "text": [
      "['apple', 'banana', 'cherry']\n"
     ]
    }
   ],
   "source": [
    "thislist = [\"apple\",\"banana\",\"cherry\"]\n",
    "print(thislist)"
   ]
  },
  {
   "cell_type": "code",
   "execution_count": 11,
   "id": "9a0c560f",
   "metadata": {},
   "outputs": [
    {
     "name": "stdout",
     "output_type": "stream",
     "text": [
      "banana\n"
     ]
    }
   ],
   "source": [
    "print(thislist[1])"
   ]
  },
  {
   "cell_type": "code",
   "execution_count": 12,
   "id": "0cd668b8",
   "metadata": {},
   "outputs": [
    {
     "name": "stdout",
     "output_type": "stream",
     "text": [
      "cherry\n"
     ]
    }
   ],
   "source": [
    "print(thislist[-1])"
   ]
  },
  {
   "cell_type": "code",
   "execution_count": 14,
   "id": "fb769158",
   "metadata": {},
   "outputs": [
    {
     "name": "stdout",
     "output_type": "stream",
     "text": [
      "['cherry', 'orange', 'kiwi']\n",
      "['cherry', 'orange', 'kiwi', 'melon', 'mango']\n",
      "['orange', 'kiwi', 'melon']\n"
     ]
    }
   ],
   "source": [
    "thislist = [\"apple\", \"banana\", \"cherry\", \"orange\",\"kiwi\", \"melon\", \"mango\"]\n",
    "print(thislist[2:5]) \n",
    "print(thislist[2:])\n",
    "print(thislist[-4:-1])"
   ]
  },
  {
   "cell_type": "code",
   "execution_count": 15,
   "id": "ed1f3181",
   "metadata": {},
   "outputs": [
    {
     "name": "stdout",
     "output_type": "stream",
     "text": [
      "['apple', 'blackcurrant', 'cherry']\n"
     ]
    }
   ],
   "source": [
    "thislist = [\"apple\", \"banana\", \"cherry\"]\n",
    "# Change the second item\n",
    "thislist[1] = \"blackcurrant\"\n",
    "print(thislist)"
   ]
  },
  {
   "cell_type": "code",
   "execution_count": 17,
   "id": "c1fdddce",
   "metadata": {},
   "outputs": [
    {
     "name": "stdout",
     "output_type": "stream",
     "text": [
      "apple\n",
      "blackcurrant\n",
      "cherry\n"
     ]
    }
   ],
   "source": [
    "for x in thislist: \n",
    "    print(x)"
   ]
  },
  {
   "cell_type": "code",
   "execution_count": 19,
   "id": "72d5a15b",
   "metadata": {},
   "outputs": [
    {
     "name": "stdout",
     "output_type": "stream",
     "text": [
      "Yes, 'apple' is in the fruits list\n",
      "3\n"
     ]
    }
   ],
   "source": [
    "if \"apple\" in thislist:\n",
    "    print(\"Yes, 'apple' is in the fruits list\")\n",
    "print(len(thislist)) "
   ]
  },
  {
   "cell_type": "code",
   "execution_count": 20,
   "id": "dbb7da57",
   "metadata": {},
   "outputs": [
    {
     "name": "stdout",
     "output_type": "stream",
     "text": [
      "['apple', 'banana', 'cherry', 'orange']\n"
     ]
    }
   ],
   "source": [
    " thislist = [\"apple\", \"banana\", \"cherry\"]\n",
    "#Add items\n",
    "thislist.append(\"orange\")\n",
    "print(thislist)"
   ]
  },
  {
   "cell_type": "code",
   "execution_count": 22,
   "id": "0e223d1f",
   "metadata": {},
   "outputs": [
    {
     "name": "stdout",
     "output_type": "stream",
     "text": [
      "['apple', 'orange', 'banana', 'cherry', 'orange']\n"
     ]
    }
   ],
   "source": [
    "thislist.insert(1, \"orange\")\n",
    "print(thislist)"
   ]
  },
  {
   "cell_type": "code",
   "execution_count": 28,
   "id": "a6882056",
   "metadata": {},
   "outputs": [
    {
     "name": "stdout",
     "output_type": "stream",
     "text": [
      "['apple', 'cherry']\n",
      "['apple', 'banana']\n",
      "['apple', 'cherry']\n",
      "['banana', 'cherry']\n",
      "[]\n"
     ]
    }
   ],
   "source": [
    " thislist = [\"apple\", \"banana\", \"cherry\"]\n",
    "#Remove item\n",
    "thislist.remove(\"banana\")\n",
    "print(thislist) \n",
    "thislist = [\"apple\", \"banana\", \"cherry\"]\n",
    "#the last item if index is not specified\n",
    "thislist.pop() \n",
    "print(thislist)\n",
    "thislist = [\"apple\", \"banana\", \"cherry\"]\n",
    "thislist.pop(1) \n",
    "print(thislist)\n",
    "thislist = [\"apple\", \"banana\", \"cherry\"]\n",
    "del thislist[0] \n",
    "#removes the specified index\n",
    "print(thislist) \n",
    "del thislist \n",
    "#delete the list completely\n",
    "thislist = [\"apple\", \"banana\", \"cherry\"]\n",
    "thislist.clear() \n",
    "#empties the list\n",
    "print(thislist)"
   ]
  },
  {
   "cell_type": "code",
   "execution_count": 30,
   "id": "ad53d361",
   "metadata": {},
   "outputs": [
    {
     "name": "stdout",
     "output_type": "stream",
     "text": [
      "[]\n"
     ]
    }
   ],
   "source": [
    "#Copy a List\n",
    "mylist = thislist.copy()\n",
    "mylist = list(thislist)\n",
    "print(mylist)"
   ]
  },
  {
   "cell_type": "code",
   "execution_count": 33,
   "id": "7713fa3b",
   "metadata": {},
   "outputs": [
    {
     "name": "stdout",
     "output_type": "stream",
     "text": [
      "['a', 'b', 'c', 1, 2, 3]\n",
      "['a', 'b', 'c', 1, 2, 3]\n",
      "['a', 'b', 'c', 1, 2, 3, 1, 2, 3]\n"
     ]
    }
   ],
   "source": [
    "#Join Two Lists\n",
    "list1 = [\"a\", \"b\", \"c\"]\n",
    "list2 = [1, 2, 3]\n",
    "list3 = list1 + list2\n",
    "print(list3)\n",
    "for x in list2:\n",
    "    list1.append(x)\n",
    "print(list1)\n",
    "list1.extend(list2)\n",
    "print(list1)"
   ]
  },
  {
   "cell_type": "code",
   "execution_count": 34,
   "id": "7079207f",
   "metadata": {},
   "outputs": [
    {
     "name": "stdout",
     "output_type": "stream",
     "text": [
      "1\n",
      "2\n",
      "3\n",
      "4\n",
      "5\n"
     ]
    }
   ],
   "source": [
    "#while loop\n",
    "i=1\n",
    "while i < 6:\n",
    "    print(i) \n",
    "    i += 1"
   ]
  },
  {
   "cell_type": "code",
   "execution_count": 35,
   "id": "96df12b7",
   "metadata": {},
   "outputs": [
    {
     "data": {
      "text/plain": [
       "10"
      ]
     },
     "execution_count": 35,
     "metadata": {},
     "output_type": "execute_result"
    }
   ],
   "source": [
    "x=0\n",
    "while x < 10:\n",
    "    x += 1\n",
    "x"
   ]
  },
  {
   "cell_type": "code",
   "execution_count": 36,
   "id": "4f45616c",
   "metadata": {},
   "outputs": [],
   "source": [
    "x=0\n",
    "while False:\n",
    "    print(x) \n",
    "    x += 1\n",
    "#Nothing prints as while statement never executed."
   ]
  },
  {
   "cell_type": "code",
   "execution_count": 37,
   "id": "d525d554",
   "metadata": {},
   "outputs": [
    {
     "name": "stdout",
     "output_type": "stream",
     "text": [
      "1\n",
      "2\n",
      "3\n"
     ]
    }
   ],
   "source": [
    "i=1\n",
    "while i < 6:\n",
    "    print(i) \n",
    "    if i == 3:\n",
    "        break \n",
    "    i += 1"
   ]
  },
  {
   "cell_type": "code",
   "execution_count": 38,
   "id": "5c034878",
   "metadata": {},
   "outputs": [
    {
     "name": "stdout",
     "output_type": "stream",
     "text": [
      "hello\n"
     ]
    }
   ],
   "source": [
    "while True:\n",
    "    print(\"hello\") \n",
    "    break \n",
    "    print(\"world\")"
   ]
  },
  {
   "cell_type": "code",
   "execution_count": 45,
   "id": "9f8245d3",
   "metadata": {},
   "outputs": [
    {
     "name": "stdout",
     "output_type": "stream",
     "text": [
      "1\n",
      "2\n",
      "4\n",
      "5\n"
     ]
    }
   ],
   "source": [
    "i=1\n",
    "while i < 6:\n",
    "    if i == 3:\n",
    "        i += 1\n",
    "        continue \n",
    "    print(i)\n",
    "    i += 1\n"
   ]
  },
  {
   "cell_type": "code",
   "execution_count": 47,
   "id": "1b0b8ecd",
   "metadata": {},
   "outputs": [
    {
     "data": {
      "text/plain": [
       "1"
      ]
     },
     "execution_count": 47,
     "metadata": {},
     "output_type": "execute_result"
    }
   ],
   "source": [
    " x=0\n",
    "while 1:\n",
    "    x += 1\n",
    "    if x > 0:\n",
    "        break\n",
    "x"
   ]
  },
  {
   "cell_type": "code",
   "execution_count": 49,
   "id": "0508f267",
   "metadata": {},
   "outputs": [
    {
     "name": "stdout",
     "output_type": "stream",
     "text": [
      "Enter your name: yogesh\n",
      "Hello, yogesh\n"
     ]
    }
   ],
   "source": [
    "x = input('Enter your name: ')\n",
    "print('Hello, ' + x) "
   ]
  },
  {
   "cell_type": "markdown",
   "id": "54882cf7",
   "metadata": {},
   "source": [
    "# Week 8 Activity"
   ]
  },
  {
   "cell_type": "code",
   "execution_count": 52,
   "id": "5aba7943",
   "metadata": {},
   "outputs": [
    {
     "name": "stdout",
     "output_type": "stream",
     "text": [
      "2\n",
      "3\n"
     ]
    }
   ],
   "source": [
    "#Nested Lists\n",
    "xs = [[1,2], [5,6,7]]\n",
    "print(len(xs))\n",
    "print(len(xs[1]))"
   ]
  },
  {
   "cell_type": "code",
   "execution_count": 55,
   "id": "9df277b9",
   "metadata": {},
   "outputs": [
    {
     "name": "stdout",
     "output_type": "stream",
     "text": [
      "[7, 8, 9]\n",
      "[[4, 5, 6], [7, 8, 9]]\n",
      "[4, 5, 6]\n",
      "6\n"
     ]
    }
   ],
   "source": [
    "#Matrices\n",
    "AA = [[1, 2, 3], [4, 5, 6], [7, 8, 9]]\n",
    "\n",
    "print(AA[-1])\n",
    "\n",
    "print(AA[1:3])\n",
    "\n",
    "print(AA[1]) \n",
    "\n",
    "print(AA[1][-1])"
   ]
  },
  {
   "cell_type": "code",
   "execution_count": 58,
   "id": "64c2531c",
   "metadata": {},
   "outputs": [
    {
     "name": "stdout",
     "output_type": "stream",
     "text": [
      "[[1, 0, 1], [2, 1, 0], [3, 2, 1], [4, 5, 6]]\n"
     ]
    },
    {
     "data": {
      "text/plain": [
       "[[1, 0, 1, 2, 3, 4], [2, 1, 0], [3, 2, 1]]"
      ]
     },
     "execution_count": 58,
     "metadata": {},
     "output_type": "execute_result"
    }
   ],
   "source": [
    "#Example: Shallow‐Copy\n",
    "xs = [[1, 0, 1], [2, 1, 0], [3, 2, 1]]\n",
    "ys = xs.copy()\n",
    "ys\n",
    "\n",
    "xs.append([4,5,6])\n",
    "print(xs)\n",
    "ys[0].extend([2, 3, 4])\n",
    "ys"
   ]
  },
  {
   "cell_type": "code",
   "execution_count": 59,
   "id": "c5fb3e8b",
   "metadata": {},
   "outputs": [
    {
     "name": "stdout",
     "output_type": "stream",
     "text": [
      "5\n",
      "25\n",
      "7.25\n",
      "64\n"
     ]
    }
   ],
   "source": [
    "#Built-in Math Functions\n",
    "print(min(5, 10, 25))\n",
    "print(max(5, 10, 25))\n",
    "print(abs(-7.25))\n",
    "print(pow(4, 3))"
   ]
  },
  {
   "cell_type": "code",
   "execution_count": 61,
   "id": "8535ac40",
   "metadata": {},
   "outputs": [
    {
     "name": "stdout",
     "output_type": "stream",
     "text": [
      "8.0\n",
      "2\n",
      "1\n",
      "3.141592653589793\n"
     ]
    }
   ],
   "source": [
    "import math\n",
    "print(math.sqrt(64))\n",
    "print(math.ceil(1.4))\n",
    "print(math.floor(1.4))\n",
    "print(math.pi)"
   ]
  },
  {
   "cell_type": "code",
   "execution_count": null,
   "id": "54af115d",
   "metadata": {},
   "outputs": [],
   "source": []
  }
 ],
 "metadata": {
  "kernelspec": {
   "display_name": "Python 3 (ipykernel)",
   "language": "python",
   "name": "python3"
  },
  "language_info": {
   "codemirror_mode": {
    "name": "ipython",
    "version": 3
   },
   "file_extension": ".py",
   "mimetype": "text/x-python",
   "name": "python",
   "nbconvert_exporter": "python",
   "pygments_lexer": "ipython3",
   "version": "3.9.7"
  }
 },
 "nbformat": 4,
 "nbformat_minor": 5
}
